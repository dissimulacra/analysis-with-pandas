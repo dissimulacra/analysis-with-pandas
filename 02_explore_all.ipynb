{
 "cells": [
  {
   "cell_type": "code",
   "execution_count": 1,
   "metadata": {
    "collapsed": false
   },
   "outputs": [
    {
     "name": "stderr",
     "output_type": "stream",
     "text": [
      "/usr/local/lib/python2.7/site-packages/IPython/html.py:14: ShimWarning: The `IPython.html` package has been deprecated. You should import from `notebook` instead. `IPython.html.widgets` has moved to `ipywidgets`.\n",
      "  \"`IPython.html.widgets` has moved to `ipywidgets`.\", ShimWarning)\n"
     ]
    },
    {
     "name": "stdout",
     "output_type": "stream",
     "text": [
      "Index([u'userid', u'age', u'dob_day', u'dob_year', u'dob_month', u'gender',\n",
      "       u'tenure', u'friend_count', u'friendships_initiated', u'likes',\n",
      "       u'likes_received', u'mobile_likes', u'mobile_likes_received',\n",
      "       u'www_likes', u'www_likes_received'],\n",
      "      dtype='object')\n",
      "<class 'pandas.core.frame.DataFrame'>\n",
      "Int64Index: 99003 entries, 0 to 99002\n",
      "Data columns (total 15 columns):\n",
      "userid                   99003 non-null int64\n",
      "age                      99003 non-null int64\n",
      "dob_day                  99003 non-null int64\n",
      "dob_year                 99003 non-null int64\n",
      "dob_month                99003 non-null int64\n",
      "gender                   98828 non-null object\n",
      "tenure                   99001 non-null float64\n",
      "friend_count             99003 non-null int64\n",
      "friendships_initiated    99003 non-null int64\n",
      "likes                    99003 non-null int64\n",
      "likes_received           99003 non-null int64\n",
      "mobile_likes             99003 non-null int64\n",
      "mobile_likes_received    99003 non-null int64\n",
      "www_likes                99003 non-null int64\n",
      "www_likes_received       99003 non-null int64\n",
      "dtypes: float64(1), int64(13), object(1)\n",
      "memory usage: 12.1+ MB\n",
      "None\n",
      "    userid  age  dob_day  dob_year  dob_month  gender  tenure  friend_count  \\\n",
      "0  2094382   14       19      1999         11    male     266             0   \n",
      "1  1192601   14        2      1999         11  female       6             0   \n",
      "2  2083884   14       16      1999         11    male      13             0   \n",
      "3  1203168   14       25      1999         12  female      93             0   \n",
      "4  1733186   14        4      1999         12    male      82             0   \n",
      "\n",
      "   friendships_initiated  likes  likes_received  mobile_likes  \\\n",
      "0                      0      0               0             0   \n",
      "1                      0      0               0             0   \n",
      "2                      0      0               0             0   \n",
      "3                      0      0               0             0   \n",
      "4                      0      0               0             0   \n",
      "\n",
      "   mobile_likes_received  www_likes  www_likes_received  \n",
      "0                      0          0                   0  \n",
      "1                      0          0                   0  \n",
      "2                      0          0                   0  \n",
      "3                      0          0                   0  \n",
      "4                      0          0                   0  \n"
     ]
    }
   ],
   "source": [
    "import pandas as pd\n",
    "import matplotlib.pyplot as plt\n",
    "import seaborn as sns\n",
    "import numpy as np\n",
    "from ggplot import *\n",
    "from ggplot import diamonds\n",
    "%matplotlib inline\n",
    "\n",
    "df = pd.read_csv('data/pseudo_facebook.tsv', sep='\\t')\n",
    "print df.columns\n",
    "print df.info()\n",
    "print df.head()\n",
    "\n"
   ]
  }
 ],
 "metadata": {
  "kernelspec": {
   "display_name": "Python 2",
   "language": "python",
   "name": "python2"
  },
  "language_info": {
   "codemirror_mode": {
    "name": "ipython",
    "version": 2
   },
   "file_extension": ".py",
   "mimetype": "text/x-python",
   "name": "python",
   "nbconvert_exporter": "python",
   "pygments_lexer": "ipython2",
   "version": "2.7.10"
  }
 },
 "nbformat": 4,
 "nbformat_minor": 0
}
